{
 "cells": [
  {
   "cell_type": "code",
   "execution_count": null,
   "metadata": {
    "collapsed": true
   },
   "outputs": [],
   "source": [
    "### Prawdopodobieństwo warunkowe (conditional probability) - prawdopodobieństwo zajścia zdarzenia A pod warunkiem zajścia\n",
    "### zdarzenia B\n",
    "\n",
    "# P(A) - prawdopodobieństwo zajścia zdarzenia A\n",
    "# P(B) - prawdopodobieństwo zajścia zdarzenia B\n",
    "# P(A|B) - prawdopodobieństwo zajścia zdarzenia B jeśli zaszło zdarzenie A\n",
    "# P(AnB) albo P(A,B) - prawdopodobieństwo zajścia zdarzenia A i B\n",
    "\n",
    "### P(A|B) = P(A,B)\\P(B)"
   ]
  }
 ],
 "metadata": {
  "kernelspec": {
   "display_name": "Python 3",
   "language": "python",
   "name": "python3"
  },
  "language_info": {
   "codemirror_mode": {
    "name": "ipython",
    "version": 3
   },
   "file_extension": ".py",
   "mimetype": "text/x-python",
   "name": "python",
   "nbconvert_exporter": "python",
   "pygments_lexer": "ipython3",
   "version": "3.5.2"
  }
 },
 "nbformat": 4,
 "nbformat_minor": 2
}
