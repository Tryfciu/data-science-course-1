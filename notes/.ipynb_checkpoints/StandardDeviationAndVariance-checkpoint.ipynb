{
 "cells": [
  {
   "cell_type": "code",
   "execution_count": null,
   "metadata": {
    "collapsed": true
   },
   "outputs": [],
   "source": [
    "# Wariancja (Variance) - miara rozproszenia danych\n",
    "# dane = 1,2,3,4,5\n",
    "# liczymy średnią: 15/5 = 3\n",
    "# liczymy różnice od średniej = -2, -1, 0, 1, 2\n",
    "# podnosimy różnice do kwadratu = 4, 1, 0, 1, 4\n",
    "# znajdujemy średnia różnic podniesionych do kwadratu = (4+1+0+1+4)/5 = 2"
   ]
  }
 ],
 "metadata": {
  "kernelspec": {
   "display_name": "Python 3",
   "language": "python",
   "name": "python3"
  },
  "language_info": {
   "codemirror_mode": {
    "name": "ipython",
    "version": 3
   },
   "file_extension": ".py",
   "mimetype": "text/x-python",
   "name": "python",
   "nbconvert_exporter": "python",
   "pygments_lexer": "ipython3",
   "version": "3.5.2"
  }
 },
 "nbformat": 4,
 "nbformat_minor": 2
}
