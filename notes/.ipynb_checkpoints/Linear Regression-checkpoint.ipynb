{
 "cells": [
  {
   "cell_type": "markdown",
   "metadata": {},
   "source": [
    "Współczynnik determinacji R² – jedna z podstawowych miar jakości dopasowania modelu. Powiązany z tym współczynnikiem jest współczynnik zbieżności.\n",
    "\n",
    "In statistics, the coefficient of determination, denoted R2 or r2 and pronounced \"R squared\", is the proportion of the variance in the dependent variable that is predictable from the independent variable(s).\n",
    "\n",
    "\n",
    "0,0 – 0,5 – dopasowanie niezadowalające\n",
    "0,5 – 0,6 – dopasowanie słabe\n",
    "0,6 – 0,8 – dopasowanie zadowalające\n",
    "0,8 – 0,9 – dopasowanie dobre\n",
    "0,9 – 1,0 – dopasowanie bardzo dobre\n",
    "\n",
    "-------------------------------------------\n",
    "\n",
    "Coefficient of correlation (r_value) - in simple linear regression analysis is a statistic which indicates the relationship between the independent variable and the dependent variable. The coefficient of correlation is represented by r and it has a range of -1.00 to +1.00.\n",
    "\n",
    "-------------------------------------------\n",
    "\n",
    "y = ax + b\n",
    "\n",
    "a - współczynnik kierunkowy (slope)\n",
    "b - wyraz wolny (intercept)\n",
    "\n",
    "-------------------------------------------"
   ]
  },
  {
   "cell_type": "code",
   "execution_count": 166,
   "metadata": {
    "collapsed": false
   },
   "outputs": [
    {
     "name": "stdout",
     "output_type": "stream",
     "text": [
      "0.87805256891\n"
     ]
    },
    {
     "data": {
      "image/png": "[encoded data removed]",
      "text/plain": [
       "<matplotlib.figure.Figure at 0x27fa5e56358>"
      ]
     },
     "metadata": {},
     "output_type": "display_data"
    }
   ],
   "source": [
    "%matplotlib inline\n",
    "\n",
    "import numpy as np\n",
    "import matplotlib.pyplot as plt\n",
    "from scipy import stats\n",
    "\n",
    "x = np.random.normal(1, 10, 500)\n",
    "y = x * np.random.normal(1, 0.5, 500)\n",
    "\n",
    "slope, intercept, r_value, p_value, std_err = stats.linregress(x, y)\n",
    "\n",
    "fitLineY = slope * x + intercept\n",
    "\n",
    "plt.scatter(x, y)\n",
    "plt.plot(x, fitLineY, c='r')\n",
    "print(r_value)"
   ]
  },
  {
   "cell_type": "code",
   "execution_count": 191,
   "metadata": {
    "collapsed": false
   },
   "outputs": [
    {
     "name": "stdout",
     "output_type": "stream",
     "text": [
      "slope:  1.94202941547\n",
      "intercept: 0.539000796993\n",
      "r-squared: 0.899184954708\n",
      "r-squared: 0.808533582772\n"
     ]
    },
    {
     "data": {
      "text/plain": [
       "[<matplotlib.lines.Line2D at 0x27fa601c438>]"
      ]
     },
     "execution_count": 191,
     "metadata": {},
     "output_type": "execute_result"
    },
    {
     "data": {
      "image/png": "[encoded data removed]",
      "text/plain": [
       "<matplotlib.figure.Figure at 0x27fa6021828>"
      ]
     },
     "metadata": {},
     "output_type": "display_data"
    }
   ],
   "source": [
    "x = np.random.random(100)\n",
    "y = 2 * x + np.random.random(100)\n",
    "\n",
    "slope, intercept, r_value, p_value, std_err = stats.linregress(x, y)\n",
    "\n",
    "print(\"slope: \", slope)\n",
    "print(\"intercept:\", intercept)\n",
    "print(\"r-squared:\", r_value)\n",
    "print(\"r-squared:\", r_value**2)\n",
    "\n",
    "\n",
    "plt.scatter(x, y)\n",
    "plt.plot(x, slope * x + intercept, c='r')\n"
   ]
  }
 ],
 "metadata": {
  "kernelspec": {
   "display_name": "Python 3",
   "language": "python",
   "name": "python3"
  },
  "language_info": {
   "codemirror_mode": {
    "name": "ipython",
    "version": 3
   },
   "file_extension": ".py",
   "mimetype": "text/x-python",
   "name": "python",
   "nbconvert_exporter": "python",
   "pygments_lexer": "ipython3",
   "version": "3.5.2"
  }
 },
 "nbformat": 4,
 "nbformat_minor": 2
}
