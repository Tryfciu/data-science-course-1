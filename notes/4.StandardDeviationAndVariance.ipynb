{
 "cells": [
  {
   "cell_type": "code",
   "execution_count": 1,
   "metadata": {
    "collapsed": false,
    "deletable": true,
    "editable": true
   },
   "outputs": [
    {
     "data": {
      "text/plain": [
       "'    \\n Odchylenie standardowe (Standard Deviation) - pierwiastek wariancji, dostarcza nam niezbędnej wiedzy na temat tego, \\n czy wyniki w poszczególnej grupie wyników są podobne do siebie - czy grupa osób (przypadków, rzeczy, itp) \\n jest podobna do siebie, czy też jest zróżnicowana\\n'"
      ]
     },
     "execution_count": 1,
     "metadata": {},
     "output_type": "execute_result"
    }
   ],
   "source": [
    "'''\n",
    " Wariancja (Variance) - miara rozproszenia danych\n",
    " dane = 1,2,3,4,5\n",
    " liczymy średnią: 15/5 = 3\n",
    " liczymy różnice od średniej = -2, -1, 0, 1, 2\n",
    " podnosimy różnice do kwadratu = 4, 1, 0, 1, 4\n",
    " znajdujemy średnia różnic podniesionych do kwadratu = (4+1+0+1+4)/5 = 2\n",
    "'''\n",
    "# http://www.naukowiec.org/wiedza/statystyka/wariancja_719.html\n",
    "\n",
    "\n",
    "'''    \n",
    " Odchylenie standardowe (Standard Deviation) - pierwiastek wariancji, dostarcza nam niezbędnej wiedzy na temat tego, \n",
    " czy wyniki w poszczególnej grupie wyników są podobne do siebie - czy grupa osób (przypadków, rzeczy, itp) \n",
    " jest podobna do siebie, czy też jest zróżnicowana\n",
    "'''\n",
    "# http://www.naukowiec.org/wiedza/statystyka/odchylenie-standardowe_703.html\n"
   ]
  },
  {
   "cell_type": "code",
   "execution_count": null,
   "metadata": {
    "collapsed": true
   },
   "outputs": [],
   "source": []
  }
 ],
 "metadata": {
  "kernelspec": {
   "display_name": "Python 3",
   "language": "python",
   "name": "python3"
  },
  "language_info": {
   "codemirror_mode": {
    "name": "ipython",
    "version": 3
   },
   "file_extension": ".py",
   "mimetype": "text/x-python",
   "name": "python",
   "nbconvert_exporter": "python",
   "pygments_lexer": "ipython3",
   "version": "3.5.2"
  }
 },
 "nbformat": 4,
 "nbformat_minor": 2
}
