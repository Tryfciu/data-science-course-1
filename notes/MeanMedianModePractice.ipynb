{
 "cells": [
  {
   "cell_type": "code",
   "execution_count": 111,
   "metadata": {
    "collapsed": false
   },
   "outputs": [
    {
     "data": {
      "text/plain": [
       "26977.80407036766"
      ]
     },
     "execution_count": 111,
     "metadata": {},
     "output_type": "execute_result"
    }
   ],
   "source": [
    "import numpy as np\n",
    "\n",
    "incomes = np.random.normal(27000, 15000, 10000)\n",
    "\n",
    "np.mean(incomes) # liczy średnią"
   ]
  },
  {
   "cell_type": "code",
   "execution_count": 112,
   "metadata": {
    "collapsed": false
   },
   "outputs": [
    {
     "data": {
      "image/png": "[encoded data removed]",
      "text/plain": [
       "<matplotlib.figure.Figure at 0x7fc409e96240>"
      ]
     },
     "metadata": {},
     "output_type": "display_data"
    }
   ],
   "source": [
    "import matplotlib.pyplot as plt\n",
    "plt.hist(incomes, 50) # generuje histogram podzielony na x pakietów\n",
    "plt.show()"
   ]
  },
  {
   "cell_type": "code",
   "execution_count": 113,
   "metadata": {
    "collapsed": false
   },
   "outputs": [
    {
     "data": {
      "text/plain": [
       "26968.163705272586"
      ]
     },
     "execution_count": 113,
     "metadata": {},
     "output_type": "execute_result"
    }
   ],
   "source": [
    "np.median(incomes) # liczy medianę"
   ]
  },
  {
   "cell_type": "code",
   "execution_count": 114,
   "metadata": {
    "collapsed": false
   },
   "outputs": [
    {
     "data": {
      "text/plain": [
       "126965.10755961169"
      ]
     },
     "execution_count": 114,
     "metadata": {},
     "output_type": "execute_result"
    }
   ],
   "source": [
    "# wprowadzamy skrajną wartość do tabeli aby sprawdzić jak zmieni się mediana i średnia\n",
    "incomes = np.append(incomes, [1000000000])\n",
    "\n",
    "np.mean(incomes)"
   ]
  },
  {
   "cell_type": "code",
   "execution_count": 115,
   "metadata": {
    "collapsed": false
   },
   "outputs": [
    {
     "data": {
      "text/plain": [
       "26968.266153681561"
      ]
     },
     "execution_count": 115,
     "metadata": {},
     "output_type": "execute_result"
    }
   ],
   "source": [
    "np.median(incomes)"
   ]
  },
  {
   "cell_type": "code",
   "execution_count": 119,
   "metadata": {
    "collapsed": false
   },
   "outputs": [
    {
     "data": {
      "text/plain": [
       "array([76, 51, 57, 35, 62, 57, 11, 65, 51, 25, 68, 55, 62, 32, 57, 64, 60,\n",
       "       19, 75, 69, 80, 68, 83, 72, 70, 49, 22, 74, 76, 33, 27, 74, 27, 71,\n",
       "       82, 21, 17, 62, 88, 47, 38, 79, 22, 16, 44, 78, 77, 33, 41, 14, 42,\n",
       "       71, 28, 10, 40, 14, 86, 58, 32, 15, 68, 19, 73, 52, 23, 51, 35, 25,\n",
       "       75, 85, 20, 59, 36, 74, 16, 45, 83, 36, 72, 73, 57, 47, 55, 66, 38,\n",
       "       48, 28, 52, 34, 81, 60, 72, 13, 80, 25, 45, 78, 21, 52, 87, 20, 81,\n",
       "       29, 43, 89, 33, 49, 88, 23, 40, 41, 70, 58, 41, 48, 41, 26, 53, 81,\n",
       "       60, 58, 52, 87, 43, 31, 70, 68, 87, 54, 16, 77, 69, 67, 89, 69, 88,\n",
       "       49, 41, 31, 45, 80, 78, 37, 38, 78, 10, 77, 72, 18, 27, 89, 68, 41,\n",
       "       70, 67, 65, 85, 33, 83, 52, 24, 58, 60, 39, 19, 81, 62, 11, 82, 23,\n",
       "       75, 21, 63, 48, 19, 35, 78, 60, 31, 42, 27, 81, 46, 16, 54, 33, 56,\n",
       "       89, 29, 21, 85, 20, 57, 20, 31, 50, 30, 56, 32, 48, 75, 67, 36, 83,\n",
       "       31, 81, 56, 50, 49, 52, 37, 20, 10, 63, 73, 63, 44, 46, 76, 17, 48,\n",
       "       27, 23, 53, 44, 11, 13, 47, 57, 30, 19, 86, 87, 58, 67, 14, 30, 57,\n",
       "       45, 47, 36, 53, 82, 37, 28, 43, 22, 15, 69, 19, 73, 80, 10, 50, 33,\n",
       "       84, 79, 82, 54, 24, 42, 76, 16, 12, 74, 89, 57, 40, 54, 28, 81, 53,\n",
       "       14, 16, 59, 36, 50, 43, 17, 46, 74, 68, 14, 61, 28, 21, 42, 77, 46,\n",
       "       55, 22, 49, 47, 86, 35, 69, 42, 36, 54, 77, 21, 56, 19, 89, 28, 14,\n",
       "       56, 83, 30, 84, 87, 89, 57, 44, 10, 63, 73, 34, 87, 63, 87, 42, 71,\n",
       "       10, 14, 40, 60, 30, 57, 72, 18, 80, 48, 67, 39, 26, 52, 64, 19, 50,\n",
       "       37, 44, 49, 49, 61, 25, 24, 42, 40, 80, 67, 53, 48, 37, 35, 24, 83,\n",
       "       70, 72, 28, 40, 60, 47, 75, 18, 45, 88, 39, 58, 47, 45, 24, 26, 46,\n",
       "       23, 69, 73, 88, 31, 75, 27, 78, 49, 58, 88, 41, 59, 87, 57, 35, 87,\n",
       "       65, 35, 23, 57, 31, 40, 59, 66, 37, 49, 69, 56, 55, 31, 31, 74, 34,\n",
       "       54, 36, 43, 33, 41, 22, 39, 60, 68, 28, 44, 69, 38, 66, 12, 61, 67,\n",
       "       59, 33, 89, 14, 75, 24, 75, 22, 33, 68, 71, 17, 48, 22, 86, 37, 15,\n",
       "       83, 61, 26, 46, 28, 65, 52, 74, 37, 50, 62, 71, 35, 49, 86, 50, 21,\n",
       "       27, 54, 49, 73, 31, 73, 18, 10, 39, 82, 84, 76, 69, 44, 44, 75, 17,\n",
       "       60, 63, 45, 19, 86, 50, 80, 79, 19, 86, 12, 85, 77, 85, 29, 22, 62,\n",
       "       60, 45, 37, 57, 77, 50, 19])"
      ]
     },
     "execution_count": 119,
     "metadata": {},
     "output_type": "execute_result"
    }
   ],
   "source": [
    "ages = np.random.randint(low=10, high=90, size=500) # generuje listę intów o podanym rozmiarze\n",
    "ages"
   ]
  },
  {
   "cell_type": "code",
   "execution_count": 120,
   "metadata": {
    "collapsed": false
   },
   "outputs": [
    {
     "data": {
      "text/plain": [
       "ModeResult(mode=array([57]), count=array([13]))"
      ]
     },
     "execution_count": 120,
     "metadata": {},
     "output_type": "execute_result"
    }
   ],
   "source": [
    "from scipy import stats\n",
    "stats.mode(ages) # znajduje wartośc, która występuje najczęściej"
   ]
  }
 ],
 "metadata": {
  "kernelspec": {
   "display_name": "Python 3",
   "language": "python",
   "name": "python3"
  },
  "language_info": {
   "codemirror_mode": {
    "name": "ipython",
    "version": 3
   },
   "file_extension": ".py",
   "mimetype": "text/x-python",
   "name": "python",
   "nbconvert_exporter": "python",
   "pygments_lexer": "ipython3",
   "version": "3.5.2"
  }
 },
 "nbformat": 4,
 "nbformat_minor": 2
}
