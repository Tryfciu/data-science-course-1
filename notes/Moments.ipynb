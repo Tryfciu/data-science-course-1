{
 "cells": [
  {
   "cell_type": "code",
   "execution_count": null,
   "metadata": {
    "collapsed": true
   },
   "outputs": [],
   "source": [
    "### Moment - In mathematics, a moment is a specific quantitative measure of the shape of a function.\n",
    "\n",
    "### 1st moment is the mean.\n",
    "\n",
    "### 2nd moment is the variance.\n",
    "\n",
    "### 3rd \"skew\" - how lopsided is the distribution? A dristribution with a longer tail on the \n",
    "    ### left will be skewed left and have negative skew\n",
    "    ### right will be skewed right and have positive skew\n",
    "    \n",
    "### 4th \"kurtosis\" - how thick is the tail and how sharp is the peak, compared to a normal distribution\n",
    "### higher peak - higher kurtosis\n",
    "\n"
   ]
  }
 ],
 "metadata": {
  "kernelspec": {
   "display_name": "Python 3",
   "language": "python",
   "name": "python3"
  },
  "language_info": {
   "codemirror_mode": {
    "name": "ipython",
    "version": 3
   },
   "file_extension": ".py",
   "mimetype": "text/x-python",
   "name": "python",
   "nbconvert_exporter": "python",
   "pygments_lexer": "ipython3",
   "version": "3.5.2"
  }
 },
 "nbformat": 4,
 "nbformat_minor": 2
}
