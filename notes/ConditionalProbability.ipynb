{
 "cells": [
  {
   "cell_type": "code",
   "execution_count": 1,
   "metadata": {
    "collapsed": true
   },
   "outputs": [],
   "source": [
    "### Prawdopodobieństwo warunkowe (conditional probability) - prawdopodobieństwo zajścia zdarzenia A pod warunkiem zajścia\n",
    "### zdarzenia B\n",
    "\n",
    "# P(A) - prawdopodobieństwo zajścia zdarzenia A\n",
    "# P(B) - prawdopodobieństwo zajścia zdarzenia B\n",
    "# P(A|B) - prawdopodobieństwo zajścia zdarzenia B jeśli zaszło zdarzenie A\n",
    "# P(AnB) albo P(A,B) - prawdopodobieństwo zajścia zdarzenia A i B\n",
    "\n",
    "### P(A|B) = P(A,B)\\P(B)"
   ]
  },
  {
   "cell_type": "code",
   "execution_count": 14,
   "metadata": {
    "collapsed": false
   },
   "outputs": [
    {
     "name": "stdout",
     "output_type": "stream",
     "text": [
      "{50: 16771, 20: 16603, 70: 16664, 40: 16725, 60: 16665, 30: 16572}\n",
      "{50: 8415, 20: 3372, 70: 11617, 40: 6710, 60: 9956, 30: 4979}\n",
      "45049\n"
     ]
    }
   ],
   "source": [
    "import numpy as np\n",
    "\n",
    "totals = {20:0, 30:0, 40:0, 50:0, 60:0, 70:0}\n",
    "purchases = {20:0, 30:0, 40:0, 50:0, 60:0, 70:0}\n",
    "totalPurchases = 0\n",
    "numberOfPeople = 100000\n",
    "\n",
    "for _ in range(numberOfPeople):\n",
    "    ageDecade = np.random.choice([20, 30, 40, 50, 60, 70])\n",
    "    purchasesProbability = ageDecade / 100\n",
    "    totals[ageDecade] += 1\n",
    "    \n",
    "    if(np.random.random() < purchasesProbability):\n",
    "        totalPurchases += 1\n",
    "        purchases[ageDecade] += 1\n",
    "        \n",
    "print(totals)\n",
    "print(purchases)\n",
    "print(totalPurchases)"
   ]
  },
  {
   "cell_type": "code",
   "execution_count": 26,
   "metadata": {
    "collapsed": false
   },
   "outputs": [
    {
     "data": {
      "text/plain": [
       "0.30044653632633356"
      ]
     },
     "execution_count": 26,
     "metadata": {},
     "output_type": "execute_result"
    }
   ],
   "source": [
    "# P(A|B), A - purchase, B - you are in your 30's\n",
    "probabilityAGivenB = purchases[30] / totals[30]\n",
    "probabilityAGivenB"
   ]
  },
  {
   "cell_type": "code",
   "execution_count": 27,
   "metadata": {
    "collapsed": false
   },
   "outputs": [
    {
     "data": {
      "text/plain": [
       "0.45049"
      ]
     },
     "execution_count": 27,
     "metadata": {},
     "output_type": "execute_result"
    }
   ],
   "source": [
    "# P(A), A - purchase\n",
    "probabilityA = totalPurchases / numberOfPeople\n",
    "probabilityA"
   ]
  },
  {
   "cell_type": "code",
   "execution_count": 28,
   "metadata": {
    "collapsed": false
   },
   "outputs": [
    {
     "data": {
      "text/plain": [
       "0.16572"
      ]
     },
     "execution_count": 28,
     "metadata": {},
     "output_type": "execute_result"
    }
   ],
   "source": [
    "# P(B), B - you are in your 30's\n",
    "probabilityB = totals[30] / numberOfPeople\n",
    "probabilityB"
   ]
  },
  {
   "cell_type": "code",
   "execution_count": 29,
   "metadata": {
    "collapsed": false
   },
   "outputs": [
    {
     "data": {
      "text/plain": [
       "0.04979"
      ]
     },
     "execution_count": 29,
     "metadata": {},
     "output_type": "execute_result"
    }
   ],
   "source": [
    "# P(A,B), A - purchase, B - you are in your 30's\n",
    "probabilityAAndB = purchases[30] / numberOfPeople\n",
    "probabilityAAndB"
   ]
  },
  {
   "cell_type": "code",
   "execution_count": 31,
   "metadata": {
    "collapsed": false
   },
   "outputs": [
    {
     "data": {
      "text/plain": [
       "0.0746552028"
      ]
     },
     "execution_count": 31,
     "metadata": {},
     "output_type": "execute_result"
    }
   ],
   "source": [
    "# P(A) * P(B)\n",
    "probabilityATimesB = probabilityA * probabilityB\n",
    "probabilityATimesB"
   ]
  },
  {
   "cell_type": "code",
   "execution_count": 33,
   "metadata": {
    "collapsed": false
   },
   "outputs": [
    {
     "data": {
      "text/plain": [
       "0.30044653632633356"
      ]
     },
     "execution_count": 33,
     "metadata": {},
     "output_type": "execute_result"
    }
   ],
   "source": [
    "# P(A|B) = P(A,B)/P(B)\n",
    "probabilityAGivenB = probabilityAAndB/probabilityB\n",
    "probabilityAGivenB"
   ]
  }
 ],
 "metadata": {
  "kernelspec": {
   "display_name": "Python 3",
   "language": "python",
   "name": "python3"
  },
  "language_info": {
   "codemirror_mode": {
    "name": "ipython",
    "version": 3
   },
   "file_extension": ".py",
   "mimetype": "text/x-python",
   "name": "python",
   "nbconvert_exporter": "python",
   "pygments_lexer": "ipython3",
   "version": "3.5.2"
  }
 },
 "nbformat": 4,
 "nbformat_minor": 2
}
